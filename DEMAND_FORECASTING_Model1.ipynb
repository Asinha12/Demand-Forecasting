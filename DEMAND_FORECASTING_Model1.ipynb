{
  "cells": [
    {
      "cell_type": "markdown",
      "id": "e21f5952",
      "metadata": {
        "id": "e21f5952"
      },
      "source": [
        "# DEMAND FORECASTING"
      ]
    },
    {
      "cell_type": "code",
      "execution_count": 1,
      "id": "b1c1ec1b",
      "metadata": {
        "id": "b1c1ec1b"
      },
      "outputs": [],
      "source": [
        "# Importing useful libraries\n",
        "import pandas as pd \n",
        "import numpy as np\n",
        "import matplotlib.pyplot as plt\n",
        "import datetime\n",
        "#import tensorflow as tf\n",
        "import sklearn\n",
        "#from tensorflow import keras\n",
        "import pandas as pd\n",
        "import numpy as np\n",
        "import seaborn as sns\n",
        "\n",
        "from sklearn.metrics import mean_squared_error\n",
        "from sklearn.model_selection import train_test_split, GridSearchCV, cross_val_score, StratifiedKFold, KFold\n",
        "\n",
        "import matplotlib.pyplot as plt\n",
        "%matplotlib inline\n",
        "\n",
        "from sklearn.decomposition import PCA, TruncatedSVD\n",
        "from sklearn.compose import ColumnTransformer\n",
        "from sklearn.pipeline import Pipeline\n",
        "from sklearn.impute import SimpleImputer\n",
        "from sklearn.preprocessing import StandardScaler, OneHotEncoder, MinMaxScaler, PolynomialFeatures, LabelEncoder\n",
        "from sklearn.ensemble import GradientBoostingRegressor, RandomForestRegressor\n",
        "\n",
        "import lightgbm\n",
        "from lightgbm import LGBMRegressor\n",
        "import warnings\n",
        "warnings.filterwarnings(\"ignore\")"
      ]
    },
    {
      "cell_type": "code",
      "execution_count": 2,
      "id": "4fa60b0a",
      "metadata": {
        "id": "4fa60b0a"
      },
      "outputs": [],
      "source": [
        "# Reading files\n",
        "train=pd.read_excel('train.xlsx')"
      ]
    },
    {
      "cell_type": "code",
      "execution_count": 3,
      "id": "7bacedb7",
      "metadata": {
        "id": "7bacedb7"
      },
      "outputs": [],
      "source": [
        "test=pd.read_excel('test.xlsx')"
      ]
    },
    {
      "cell_type": "code",
      "execution_count": 4,
      "id": "9d0b1b75",
      "metadata": {
        "colab": {
          "base_uri": "https://localhost:8080/"
        },
        "id": "9d0b1b75",
        "outputId": "d221a7f9-3ce0-4856-eb2b-4d8b0b598048"
      },
      "outputs": [
        {
          "output_type": "stream",
          "name": "stdout",
          "text": [
            "date      datetime64[ns]\n",
            "hour               int64\n",
            "demand             int64\n",
            "dtype: object\n"
          ]
        }
      ],
      "source": [
        "print(train.dtypes)"
      ]
    },
    {
      "cell_type": "code",
      "execution_count": 5,
      "id": "8f343f6f",
      "metadata": {
        "colab": {
          "base_uri": "https://localhost:8080/",
          "height": 206
        },
        "id": "8f343f6f",
        "outputId": "175e52ce-e3bf-4488-91ba-588f76c6bf9a"
      },
      "outputs": [
        {
          "output_type": "execute_result",
          "data": {
            "text/plain": [
              "        date  hour  demand\n",
              "0 2018-08-18     9      91\n",
              "1 2018-08-18    10      21\n",
              "2 2018-08-18    13      23\n",
              "3 2018-08-18    14     104\n",
              "4 2018-08-18    15      81"
            ],
            "text/html": [
              "\n",
              "  <div id=\"df-3f397bdd-c7c2-4e73-a7ee-eb11996882fc\">\n",
              "    <div class=\"colab-df-container\">\n",
              "      <div>\n",
              "<style scoped>\n",
              "    .dataframe tbody tr th:only-of-type {\n",
              "        vertical-align: middle;\n",
              "    }\n",
              "\n",
              "    .dataframe tbody tr th {\n",
              "        vertical-align: top;\n",
              "    }\n",
              "\n",
              "    .dataframe thead th {\n",
              "        text-align: right;\n",
              "    }\n",
              "</style>\n",
              "<table border=\"1\" class=\"dataframe\">\n",
              "  <thead>\n",
              "    <tr style=\"text-align: right;\">\n",
              "      <th></th>\n",
              "      <th>date</th>\n",
              "      <th>hour</th>\n",
              "      <th>demand</th>\n",
              "    </tr>\n",
              "  </thead>\n",
              "  <tbody>\n",
              "    <tr>\n",
              "      <th>0</th>\n",
              "      <td>2018-08-18</td>\n",
              "      <td>9</td>\n",
              "      <td>91</td>\n",
              "    </tr>\n",
              "    <tr>\n",
              "      <th>1</th>\n",
              "      <td>2018-08-18</td>\n",
              "      <td>10</td>\n",
              "      <td>21</td>\n",
              "    </tr>\n",
              "    <tr>\n",
              "      <th>2</th>\n",
              "      <td>2018-08-18</td>\n",
              "      <td>13</td>\n",
              "      <td>23</td>\n",
              "    </tr>\n",
              "    <tr>\n",
              "      <th>3</th>\n",
              "      <td>2018-08-18</td>\n",
              "      <td>14</td>\n",
              "      <td>104</td>\n",
              "    </tr>\n",
              "    <tr>\n",
              "      <th>4</th>\n",
              "      <td>2018-08-18</td>\n",
              "      <td>15</td>\n",
              "      <td>81</td>\n",
              "    </tr>\n",
              "  </tbody>\n",
              "</table>\n",
              "</div>\n",
              "      <button class=\"colab-df-convert\" onclick=\"convertToInteractive('df-3f397bdd-c7c2-4e73-a7ee-eb11996882fc')\"\n",
              "              title=\"Convert this dataframe to an interactive table.\"\n",
              "              style=\"display:none;\">\n",
              "        \n",
              "  <svg xmlns=\"http://www.w3.org/2000/svg\" height=\"24px\"viewBox=\"0 0 24 24\"\n",
              "       width=\"24px\">\n",
              "    <path d=\"M0 0h24v24H0V0z\" fill=\"none\"/>\n",
              "    <path d=\"M18.56 5.44l.94 2.06.94-2.06 2.06-.94-2.06-.94-.94-2.06-.94 2.06-2.06.94zm-11 1L8.5 8.5l.94-2.06 2.06-.94-2.06-.94L8.5 2.5l-.94 2.06-2.06.94zm10 10l.94 2.06.94-2.06 2.06-.94-2.06-.94-.94-2.06-.94 2.06-2.06.94z\"/><path d=\"M17.41 7.96l-1.37-1.37c-.4-.4-.92-.59-1.43-.59-.52 0-1.04.2-1.43.59L10.3 9.45l-7.72 7.72c-.78.78-.78 2.05 0 2.83L4 21.41c.39.39.9.59 1.41.59.51 0 1.02-.2 1.41-.59l7.78-7.78 2.81-2.81c.8-.78.8-2.07 0-2.86zM5.41 20L4 18.59l7.72-7.72 1.47 1.35L5.41 20z\"/>\n",
              "  </svg>\n",
              "      </button>\n",
              "      \n",
              "  <style>\n",
              "    .colab-df-container {\n",
              "      display:flex;\n",
              "      flex-wrap:wrap;\n",
              "      gap: 12px;\n",
              "    }\n",
              "\n",
              "    .colab-df-convert {\n",
              "      background-color: #E8F0FE;\n",
              "      border: none;\n",
              "      border-radius: 50%;\n",
              "      cursor: pointer;\n",
              "      display: none;\n",
              "      fill: #1967D2;\n",
              "      height: 32px;\n",
              "      padding: 0 0 0 0;\n",
              "      width: 32px;\n",
              "    }\n",
              "\n",
              "    .colab-df-convert:hover {\n",
              "      background-color: #E2EBFA;\n",
              "      box-shadow: 0px 1px 2px rgba(60, 64, 67, 0.3), 0px 1px 3px 1px rgba(60, 64, 67, 0.15);\n",
              "      fill: #174EA6;\n",
              "    }\n",
              "\n",
              "    [theme=dark] .colab-df-convert {\n",
              "      background-color: #3B4455;\n",
              "      fill: #D2E3FC;\n",
              "    }\n",
              "\n",
              "    [theme=dark] .colab-df-convert:hover {\n",
              "      background-color: #434B5C;\n",
              "      box-shadow: 0px 1px 3px 1px rgba(0, 0, 0, 0.15);\n",
              "      filter: drop-shadow(0px 1px 2px rgba(0, 0, 0, 0.3));\n",
              "      fill: #FFFFFF;\n",
              "    }\n",
              "  </style>\n",
              "\n",
              "      <script>\n",
              "        const buttonEl =\n",
              "          document.querySelector('#df-3f397bdd-c7c2-4e73-a7ee-eb11996882fc button.colab-df-convert');\n",
              "        buttonEl.style.display =\n",
              "          google.colab.kernel.accessAllowed ? 'block' : 'none';\n",
              "\n",
              "        async function convertToInteractive(key) {\n",
              "          const element = document.querySelector('#df-3f397bdd-c7c2-4e73-a7ee-eb11996882fc');\n",
              "          const dataTable =\n",
              "            await google.colab.kernel.invokeFunction('convertToInteractive',\n",
              "                                                     [key], {});\n",
              "          if (!dataTable) return;\n",
              "\n",
              "          const docLinkHtml = 'Like what you see? Visit the ' +\n",
              "            '<a target=\"_blank\" href=https://colab.research.google.com/notebooks/data_table.ipynb>data table notebook</a>'\n",
              "            + ' to learn more about interactive tables.';\n",
              "          element.innerHTML = '';\n",
              "          dataTable['output_type'] = 'display_data';\n",
              "          await google.colab.output.renderOutput(dataTable, element);\n",
              "          const docLink = document.createElement('div');\n",
              "          docLink.innerHTML = docLinkHtml;\n",
              "          element.appendChild(docLink);\n",
              "        }\n",
              "      </script>\n",
              "    </div>\n",
              "  </div>\n",
              "  "
            ]
          },
          "metadata": {},
          "execution_count": 5
        }
      ],
      "source": [
        "train.head()"
      ]
    },
    {
      "cell_type": "code",
      "execution_count": 6,
      "id": "50473d89",
      "metadata": {
        "colab": {
          "base_uri": "https://localhost:8080/"
        },
        "id": "50473d89",
        "outputId": "f22217c1-8290-4f43-d205-dfa651c4e1f7"
      },
      "outputs": [
        {
          "output_type": "stream",
          "name": "stdout",
          "text": [
            "<class 'pandas.core.frame.DataFrame'>\n",
            "RangeIndex: 18247 entries, 0 to 18246\n",
            "Data columns (total 3 columns):\n",
            " #   Column  Non-Null Count  Dtype         \n",
            "---  ------  --------------  -----         \n",
            " 0   date    18247 non-null  datetime64[ns]\n",
            " 1   hour    18247 non-null  int64         \n",
            " 2   demand  18247 non-null  int64         \n",
            "dtypes: datetime64[ns](1), int64(2)\n",
            "memory usage: 427.8 KB\n"
          ]
        }
      ],
      "source": [
        "train.info()"
      ]
    },
    {
      "cell_type": "markdown",
      "id": "634f3be1",
      "metadata": {
        "id": "634f3be1"
      },
      "source": [
        "### CREATING ADDITIONAL FEATURES FROM DATE COLUMN"
      ]
    },
    {
      "cell_type": "code",
      "execution_count": 7,
      "id": "dd934ac2",
      "metadata": {
        "id": "dd934ac2"
      },
      "outputs": [],
      "source": [
        "train['month'] = train['date'].dt.month"
      ]
    },
    {
      "cell_type": "code",
      "execution_count": 8,
      "id": "48c345a2",
      "metadata": {
        "id": "48c345a2"
      },
      "outputs": [],
      "source": [
        "train['week'] = train['date'].dt.week"
      ]
    },
    {
      "cell_type": "code",
      "execution_count": 9,
      "id": "168acae5",
      "metadata": {
        "id": "168acae5"
      },
      "outputs": [],
      "source": [
        "train['day'] =train['date'].dt.day"
      ]
    },
    {
      "cell_type": "code",
      "execution_count": 10,
      "id": "426eaf73",
      "metadata": {
        "id": "426eaf73"
      },
      "outputs": [],
      "source": [
        "train['weekday'] = train['date'].dt.weekday"
      ]
    },
    {
      "cell_type": "code",
      "execution_count": 11,
      "id": "6726e554",
      "metadata": {
        "id": "6726e554"
      },
      "outputs": [],
      "source": [
        "train['year'] = train['date'].dt.year"
      ]
    },
    {
      "cell_type": "code",
      "execution_count": 12,
      "id": "3c1b112d",
      "metadata": {
        "colab": {
          "base_uri": "https://localhost:8080/"
        },
        "id": "3c1b112d",
        "outputId": "e014bf7b-6f99-425e-ee1b-e72f8beadde4"
      },
      "outputs": [
        {
          "output_type": "execute_result",
          "data": {
            "text/plain": [
              "array([2018, 2019, 2020, 2021])"
            ]
          },
          "metadata": {},
          "execution_count": 12
        }
      ],
      "source": [
        "train['year'].unique()"
      ]
    },
    {
      "cell_type": "code",
      "execution_count": 13,
      "id": "71a15f6d",
      "metadata": {
        "id": "71a15f6d"
      },
      "outputs": [],
      "source": [
        "train['day_of_year'] = train['date'].dt.day_of_year"
      ]
    },
    {
      "cell_type": "code",
      "execution_count": 14,
      "id": "b9350fdc",
      "metadata": {
        "id": "b9350fdc"
      },
      "outputs": [],
      "source": [
        "train['is_month_start'] = train['date'].dt.is_month_start"
      ]
    },
    {
      "cell_type": "code",
      "execution_count": 15,
      "id": "504b4a78",
      "metadata": {
        "id": "504b4a78"
      },
      "outputs": [],
      "source": [
        "train['is_month_end'] = train['date'].dt.is_month_end"
      ]
    },
    {
      "cell_type": "code",
      "execution_count": 16,
      "id": "5dde6490",
      "metadata": {
        "id": "5dde6490"
      },
      "outputs": [],
      "source": [
        "train['is_quarter_start'] = train['date'].dt.is_quarter_start"
      ]
    },
    {
      "cell_type": "code",
      "execution_count": 17,
      "id": "870e9908",
      "metadata": {
        "id": "870e9908"
      },
      "outputs": [],
      "source": [
        "train['is_quarter_end'] = train['date'].dt.is_quarter_end"
      ]
    },
    {
      "cell_type": "code",
      "execution_count": 18,
      "id": "57b13a00",
      "metadata": {
        "id": "57b13a00"
      },
      "outputs": [],
      "source": [
        "train['is_year_end'] = train['date'].dt.is_year_end"
      ]
    },
    {
      "cell_type": "code",
      "execution_count": 19,
      "id": "7c229b09",
      "metadata": {
        "id": "7c229b09"
      },
      "outputs": [],
      "source": [
        "train['is_year_start'] = train['date'].dt.is_year_start"
      ]
    },
    {
      "cell_type": "code",
      "execution_count": 20,
      "id": "13e5895b",
      "metadata": {
        "id": "13e5895b"
      },
      "outputs": [],
      "source": [
        "years=list(train['year'].unique())+ list(test['date'].dt.year.unique())"
      ]
    },
    {
      "cell_type": "code",
      "source": [
        "import holidays\n",
        "\n",
        "#Select country and create a holiday list\n",
        "holidays = holidays.India(years = years)\n",
        "holiday_list=[d for d in holidays.keys()]\n",
        "\n",
        "train['is_holiday']=train['date'].apply(lambda x: 1 if x in holiday_list else 0)"
      ],
      "metadata": {
        "id": "l9OmN9qiLLpv"
      },
      "id": "l9OmN9qiLLpv",
      "execution_count": 21,
      "outputs": []
    },
    {
      "cell_type": "code",
      "execution_count": 22,
      "id": "df0701f9",
      "metadata": {
        "id": "df0701f9"
      },
      "outputs": [],
      "source": [
        "#day_part function\n",
        "def day_part(hour):\n",
        "    if hour in [4,5,6]:\n",
        "        return \"early morning\"\n",
        "    elif hour in [7,8]:\n",
        "        return \"morning\"\n",
        "    elif hour in [9,10, 11]:\n",
        "        return \"late morning\"\n",
        "    elif hour in [12,13,14]:\n",
        "        return \"noon\"\n",
        "    elif hour in [15,16,17]:\n",
        "        return \"afternoon\"\n",
        "    elif hour in [18,19]:\n",
        "        return \"evening\"\n",
        "    elif hour in [20, 21, 22]:\n",
        "        return \"night\"\n",
        "    elif hour in [23,0,1,2,3]:\n",
        "        return \"midnight\"\n",
        "    \n",
        "    \n",
        "#Run function with apply method\n",
        "train['day_part'] = train['hour'].apply(day_part)"
      ]
    },
    {
      "cell_type": "markdown",
      "id": "8ee17a93",
      "metadata": {
        "id": "8ee17a93"
      },
      "source": [
        "### EDA"
      ]
    },
    {
      "cell_type": "markdown",
      "source": [
        "#### Demand (target variable)"
      ],
      "metadata": {
        "id": "jcw-djF8ezmm"
      },
      "id": "jcw-djF8ezmm"
    },
    {
      "cell_type": "code",
      "execution_count": 23,
      "id": "c883ac62",
      "metadata": {
        "colab": {
          "base_uri": "https://localhost:8080/",
          "height": 423
        },
        "id": "c883ac62",
        "outputId": "8f795a20-7357-41ce-cfdf-baf72835d930"
      },
      "outputs": [
        {
          "output_type": "execute_result",
          "data": {
            "text/plain": [
              "<function matplotlib.pyplot.show>"
            ]
          },
          "metadata": {},
          "execution_count": 23
        },
        {
          "output_type": "display_data",
          "data": {
            "text/plain": [
              "<Figure size 1008x432 with 2 Axes>"
            ],
            "image/png": "[encoded data removed]"
          },
          "metadata": {
            "needs_background": "light"
          }
        }
      ],
      "source": [
        "plt.figure(figsize=(14,6))\n",
        "plt.subplot(2,1,1)\n",
        "sns.histplot(data=train['demand'], kde = True, bins=50)\n",
        "plt.title('Distribution of Demand variable',fontsize=14)\n",
        "plt.subplot(2,1,2)\n",
        "sns.boxplot(x='demand', data=train)\n",
        "plt.show\n"
      ]
    },
    {
      "cell_type": "markdown",
      "source": [
        "#### Year (Independant variable)"
      ],
      "metadata": {
        "id": "QekyI_vle7zA"
      },
      "id": "QekyI_vle7zA"
    },
    {
      "cell_type": "code",
      "execution_count": 24,
      "id": "fc4bebfd",
      "metadata": {
        "colab": {
          "base_uri": "https://localhost:8080/",
          "height": 421
        },
        "id": "fc4bebfd",
        "outputId": "f3e5c0c5-99f6-43f3-d932-d3bf4eb5926c"
      },
      "outputs": [
        {
          "output_type": "execute_result",
          "data": {
            "text/plain": [
              "Text(0.5, 1.0, 'Yearly demand')"
            ]
          },
          "metadata": {},
          "execution_count": 24
        },
        {
          "output_type": "display_data",
          "data": {
            "text/plain": [
              "<Figure size 576x432 with 1 Axes>"
            ],
            "image/png": "[encoded data removed]"
          },
          "metadata": {
            "needs_background": "light"
          }
        }
      ],
      "source": [
        "train.groupby('year')['demand'].mean().plot( kind = 'line', figsize = (8,6))\n",
        "plt.ylabel('Demand')\n",
        "plt.xlabel('Year')\n",
        "plt.title('Yearly demand')"
      ]
    },
    {
      "cell_type": "markdown",
      "id": "749da0b5",
      "metadata": {
        "id": "749da0b5"
      },
      "source": [
        "The average demand is steeply increasing on yearly basis."
      ]
    },
    {
      "cell_type": "code",
      "source": [
        "plt.scatter(train['year'], train['demand'])"
      ],
      "metadata": {
        "colab": {
          "base_uri": "https://localhost:8080/",
          "height": 283
        },
        "id": "O2IyREjCdV2e",
        "outputId": "cd0302d9-034f-4c40-f2f7-e34217bc6223"
      },
      "id": "O2IyREjCdV2e",
      "execution_count": 25,
      "outputs": [
        {
          "output_type": "execute_result",
          "data": {
            "text/plain": [
              "<matplotlib.collections.PathCollection at 0x7f2bc28f5510>"
            ]
          },
          "metadata": {},
          "execution_count": 25
        },
        {
          "output_type": "display_data",
          "data": {
            "text/plain": [
              "<Figure size 432x288 with 1 Axes>"
            ],
            "image/png": "[encoded data removed]"
          },
          "metadata": {
            "needs_background": "light"
          }
        }
      ]
    },
    {
      "cell_type": "markdown",
      "source": [
        "The demand is fairly same year-wise except cases where there were some unusual peaks  in the past years, that are against the average trend. "
      ],
      "metadata": {
        "id": "nQMZpRxGdXNf"
      },
      "id": "nQMZpRxGdXNf"
    },
    {
      "cell_type": "markdown",
      "source": [
        "#### Hour(Independant variable)"
      ],
      "metadata": {
        "id": "6RKkgCYjfEM6"
      },
      "id": "6RKkgCYjfEM6"
    },
    {
      "cell_type": "code",
      "execution_count": 26,
      "id": "28e81260",
      "metadata": {
        "colab": {
          "base_uri": "https://localhost:8080/",
          "height": 421
        },
        "id": "28e81260",
        "outputId": "a6cf8da2-5ae0-457b-e706-6bc31bdc1aa7",
        "scrolled": true
      },
      "outputs": [
        {
          "output_type": "execute_result",
          "data": {
            "text/plain": [
              "Text(0.5, 1.0, 'Hourly demand')"
            ]
          },
          "metadata": {},
          "execution_count": 26
        },
        {
          "output_type": "display_data",
          "data": {
            "text/plain": [
              "<Figure size 576x432 with 1 Axes>"
            ],
            "image/png": "[encoded data removed]"
          },
          "metadata": {
            "needs_background": "light"
          }
        }
      ],
      "source": [
        "train.groupby('hour')['demand'].mean().plot( kind = 'line', figsize = (8,6))\n",
        "plt.ylabel('Demand')\n",
        "plt.xlabel('Hour')\n",
        "plt.title('Hourly demand')"
      ]
    },
    {
      "cell_type": "markdown",
      "id": "dd14a252",
      "metadata": {
        "id": "dd14a252"
      },
      "source": [
        "The demand is at peak betweek 12pm to 5pm. and is the lowest from 4am  to 6am."
      ]
    },
    {
      "cell_type": "markdown",
      "source": [
        "#### Month(Independant variable)"
      ],
      "metadata": {
        "id": "H9vgkGmxfPCc"
      },
      "id": "H9vgkGmxfPCc"
    },
    {
      "cell_type": "code",
      "execution_count": 27,
      "id": "de049c86",
      "metadata": {
        "colab": {
          "base_uri": "https://localhost:8080/",
          "height": 421
        },
        "id": "de049c86",
        "outputId": "ec7ced1b-d018-415d-96c7-34fa32f9bd43"
      },
      "outputs": [
        {
          "output_type": "execute_result",
          "data": {
            "text/plain": [
              "Text(0.5, 1.0, 'Monthly demand')"
            ]
          },
          "metadata": {},
          "execution_count": 27
        },
        {
          "output_type": "display_data",
          "data": {
            "text/plain": [
              "<Figure size 576x432 with 1 Axes>"
            ],
            "image/png": "[encoded data removed]"
          },
          "metadata": {
            "needs_background": "light"
          }
        }
      ],
      "source": [
        "train.groupby('month')['demand'].mean().plot( kind = 'line', figsize = (8,6))\n",
        "plt.ylabel('Demand')\n",
        "plt.xlabel('Month')\n",
        "plt.title('Monthly demand')"
      ]
    },
    {
      "cell_type": "markdown",
      "id": "a8529cdc",
      "metadata": {
        "id": "a8529cdc"
      },
      "source": [
        "The demand is at peak in the months of June and November and the lowest from July to October."
      ]
    },
    {
      "cell_type": "markdown",
      "source": [
        "#### Weekday(Independant variable)"
      ],
      "metadata": {
        "id": "vj3YWvSwfTMB"
      },
      "id": "vj3YWvSwfTMB"
    },
    {
      "cell_type": "code",
      "execution_count": 28,
      "id": "f181d0af",
      "metadata": {
        "colab": {
          "base_uri": "https://localhost:8080/",
          "height": 421
        },
        "id": "f181d0af",
        "outputId": "5bb1af68-f221-4d32-ab5b-7ad267e80132"
      },
      "outputs": [
        {
          "output_type": "execute_result",
          "data": {
            "text/plain": [
              "Text(0.5, 1.0, 'Demand vs Day of week')"
            ]
          },
          "metadata": {},
          "execution_count": 28
        },
        {
          "output_type": "display_data",
          "data": {
            "text/plain": [
              "<Figure size 576x432 with 1 Axes>"
            ],
            "image/png": "[encoded data removed]"
          },
          "metadata": {
            "needs_background": "light"
          }
        }
      ],
      "source": [
        "train.groupby('weekday')['demand'].mean().plot(kind = 'line', figsize = (8,6))\n",
        "plt.ylabel('Demand')\n",
        "plt.xlabel('Weekday')\n",
        "plt.title('Demand vs Day of week')"
      ]
    },
    {
      "cell_type": "markdown",
      "id": "fe09e958",
      "metadata": {
        "id": "fe09e958"
      },
      "source": [
        "Demand is highest on Saturday and Sunday and lowest on Monday and Tuesday"
      ]
    },
    {
      "cell_type": "code",
      "execution_count": 29,
      "id": "44578e4f",
      "metadata": {
        "colab": {
          "base_uri": "https://localhost:8080/",
          "height": 421
        },
        "id": "44578e4f",
        "outputId": "7854d7da-bb67-46b5-e9f4-10cbec18e9e8"
      },
      "outputs": [
        {
          "output_type": "execute_result",
          "data": {
            "text/plain": [
              "Text(0.5, 1.0, 'Yearly demand')"
            ]
          },
          "metadata": {},
          "execution_count": 29
        },
        {
          "output_type": "display_data",
          "data": {
            "text/plain": [
              "<Figure size 576x432 with 1 Axes>"
            ],
            "image/png": "[encoded data removed]"
          },
          "metadata": {
            "needs_background": "light"
          }
        }
      ],
      "source": [
        "train.groupby('day_of_year')['demand'].mean().plot( kind = 'line', figsize = (8,6))\n",
        "plt.ylabel('Demand')\n",
        "plt.xlabel('Year')\n",
        "plt.title('Yearly demand')"
      ]
    },
    {
      "cell_type": "markdown",
      "id": "e4678f4f",
      "metadata": {
        "id": "e4678f4f"
      },
      "source": [
        "### TRAIN TEST SPLIT"
      ]
    },
    {
      "cell_type": "code",
      "execution_count": 30,
      "id": "9840d1e5",
      "metadata": {
        "id": "9840d1e5"
      },
      "outputs": [],
      "source": [
        "train=train.reset_index(drop=True)"
      ]
    },
    {
      "cell_type": "code",
      "execution_count": 31,
      "id": "WLp8nzVpPHQu",
      "metadata": {
        "colab": {
          "base_uri": "https://localhost:8080/"
        },
        "id": "WLp8nzVpPHQu",
        "outputId": "5ecd5e69-dc7b-41fa-f018-0e5524febd1a"
      },
      "outputs": [
        {
          "output_type": "execute_result",
          "data": {
            "text/plain": [
              "Index(['date', 'hour', 'demand', 'month', 'week', 'day', 'weekday', 'year',\n",
              "       'day_of_year', 'is_month_start', 'is_month_end', 'is_quarter_start',\n",
              "       'is_quarter_end', 'is_year_end', 'is_year_start', 'is_holiday',\n",
              "       'day_part'],\n",
              "      dtype='object')"
            ]
          },
          "metadata": {},
          "execution_count": 31
        }
      ],
      "source": [
        "train.columns"
      ]
    },
    {
      "cell_type": "code",
      "source": [
        "# Identifying indices of potential outliers\n",
        "indices=train[train['demand']>= 250].index.to_list()"
      ],
      "metadata": {
        "id": "OnHYjkbeE0e7"
      },
      "id": "OnHYjkbeE0e7",
      "execution_count": 32,
      "outputs": []
    },
    {
      "cell_type": "code",
      "source": [
        "#deleting outliers\n",
        "train=train.drop(indices, axis=0)"
      ],
      "metadata": {
        "id": "OJEy3CJME-QR"
      },
      "id": "OJEy3CJME-QR",
      "execution_count": 33,
      "outputs": []
    },
    {
      "cell_type": "code",
      "execution_count": 34,
      "id": "cd2864bc",
      "metadata": {
        "id": "cd2864bc"
      },
      "outputs": [],
      "source": [
        "X=train.drop(['date', 'demand'], axis=1)"
      ]
    },
    {
      "cell_type": "code",
      "execution_count": 35,
      "id": "ac6d4277",
      "metadata": {
        "id": "ac6d4277"
      },
      "outputs": [],
      "source": [
        "y=train['demand']"
      ]
    },
    {
      "cell_type": "code",
      "execution_count": 36,
      "id": "778d2de5",
      "metadata": {
        "id": "778d2de5"
      },
      "outputs": [],
      "source": [
        "X_train, X_test, y_train, y_test=train_test_split(X, y, test_size=0.10, random_state=1)"
      ]
    },
    {
      "cell_type": "markdown",
      "id": "RXPPkUjxQkhJ",
      "metadata": {
        "id": "RXPPkUjxQkhJ"
      },
      "source": [
        "### FEATURE LISTS"
      ]
    },
    {
      "cell_type": "code",
      "execution_count": 37,
      "id": "KHcaSOy9Qp9W",
      "metadata": {
        "id": "KHcaSOy9Qp9W"
      },
      "outputs": [],
      "source": [
        "cat_cols=[col for col in X.columns if 'is' in col]"
      ]
    },
    {
      "cell_type": "code",
      "execution_count": 38,
      "id": "vHSIrRHARXjJ",
      "metadata": {
        "id": "vHSIrRHARXjJ"
      },
      "outputs": [],
      "source": [
        "cat_cols= cat_cols + ['day_part']"
      ]
    },
    {
      "cell_type": "code",
      "execution_count": 39,
      "id": "1wTtL3-FRj_b",
      "metadata": {
        "id": "1wTtL3-FRj_b"
      },
      "outputs": [],
      "source": [
        "num_cols= [col for col in X.columns if col not in  cat_cols]"
      ]
    },
    {
      "cell_type": "code",
      "execution_count": 40,
      "id": "9-rmjlR3SDtO",
      "metadata": {
        "colab": {
          "base_uri": "https://localhost:8080/"
        },
        "id": "9-rmjlR3SDtO",
        "outputId": "c7d12a91-5733-41ca-9005-2710de47c4ac"
      },
      "outputs": [
        {
          "output_type": "execute_result",
          "data": {
            "text/plain": [
              "['hour', 'month', 'week', 'day', 'weekday', 'year', 'day_of_year']"
            ]
          },
          "metadata": {},
          "execution_count": 40
        }
      ],
      "source": [
        "num_cols"
      ]
    },
    {
      "cell_type": "markdown",
      "id": "c9095ae0",
      "metadata": {
        "id": "c9095ae0"
      },
      "source": [
        "### TRAINING DATA"
      ]
    },
    {
      "cell_type": "code",
      "execution_count": 41,
      "id": "556e77c9",
      "metadata": {
        "id": "556e77c9"
      },
      "outputs": [],
      "source": [
        "def fit_pipeline(numcollist, catcollist,  X_train, y_train, final_estimator):\n",
        "    \"\"\"This function creates a pre-processing pipeline and fits the data using the final estimator.\"\"\"\n",
        "  \n",
        "    # Define preprocessing for numeric columns (scale them)\n",
        "    num_pipeline=Pipeline([('poly_features', PolynomialFeatures(degree=2)),('scaler', StandardScaler())])\n",
        "    \n",
        "    # Define preprocessing for categorical features (encode them)\n",
        "    cat_pipeline=Pipeline([('ohc', OneHotEncoder(drop='if_binary'))])\n",
        "\n",
        "    \n",
        "    # Combine preprocessing steps\n",
        "    preprocessor=ColumnTransformer(transformers=[('num', num_pipeline,numcollist), ('cat', cat_pipeline, catcollist)])\n",
        "        \n",
        "    # Create preprocessing and training pipeline\n",
        "    pipeline = Pipeline(steps=[('preprocessor', preprocessor), ('estimator', final_estimator)])\n",
        "    \n",
        "    model= pipeline.fit(X_train, y_train)\n",
        "    \n",
        "    return model"
      ]
    },
    {
      "cell_type": "code",
      "execution_count": 42,
      "id": "8048e35b",
      "metadata": {
        "id": "8048e35b"
      },
      "outputs": [],
      "source": [
        "# FUNCTION TO EVALUATE MODEL PERFORMANCE\n",
        "def evaluate_model(model):\n",
        "  \"\"\"This function evaluates the model on train and test with different metrics\"\"\"\n",
        "  train_pred=model.predict(X_train)\n",
        "  test_pred=model.predict(X_test)\n",
        "  print('Root mean sqaured error on train set is {}'.format(round(np.sqrt(mean_squared_error(y_train, train_pred)),2)))\n",
        "  print('Root mean sqaured error on test set is {}'.format(round(np.sqrt(mean_squared_error(y_test, test_pred)),2)))\n",
        "  "
      ]
    },
    {
      "cell_type": "code",
      "execution_count": 43,
      "id": "f04bd670",
      "metadata": {
        "id": "f04bd670"
      },
      "outputs": [],
      "source": [
        "X_train=X_train\n",
        "y_train=y_train\n",
        "numcollist=num_cols\n",
        "catcollist=cat_cols\n",
        "\n",
        "\n"
      ]
    },
    {
      "cell_type": "code",
      "source": [
        "# Calling the functions and training\n",
        "final_estimator=LGBMRegressor(n_estomators=400, num_leaves=40,reg_lambda=.02,random_state=1)\n",
        "lgbm_model=fit_pipeline(numcollist, catcollist,  X_train, y_train, final_estimator)\n",
        "evaluate_model(lgbm_model)"
      ],
      "metadata": {
        "colab": {
          "base_uri": "https://localhost:8080/"
        },
        "id": "CMk9Di50TgkU",
        "outputId": "a7fea07d-80a7-474e-b688-86a5ea705a82"
      },
      "id": "CMk9Di50TgkU",
      "execution_count": 44,
      "outputs": [
        {
          "output_type": "stream",
          "name": "stdout",
          "text": [
            "Root mean sqaured error on train set is 28.24\n",
            "Root mean sqaured error on test set is 30.87\n"
          ]
        }
      ]
    },
    {
      "cell_type": "markdown",
      "id": "edc6f675",
      "metadata": {
        "id": "edc6f675"
      },
      "source": [
        "### PREPARING TEST SET"
      ]
    },
    {
      "cell_type": "code",
      "execution_count": 47,
      "id": "1afd1490",
      "metadata": {
        "id": "1afd1490"
      },
      "outputs": [],
      "source": [
        "# Function to add new features to test data\n",
        "def create_data(df):\n",
        "    df['month'] = df['date'].dt.month\n",
        "    df['week'] = df['date'].dt.week\n",
        "    df['day'] =df['date'].dt.day\n",
        "    df['weekday'] = df['date'].dt.weekday\n",
        "    df['year'] = df['date'].dt.year\n",
        "    df['day_of_year'] = df['date'].dt.day_of_year\n",
        "    df['is_month_start'] = df['date'].dt.is_month_start\n",
        "    df['is_month_end'] = df['date'].dt.is_month_end\n",
        "    df['is_quarter_start'] = df['date'].dt.is_quarter_start\n",
        "    df['is_quarter_end'] = df['date'].dt.is_quarter_end\n",
        "    df['is_year_end'] = df['date'].dt.is_year_end\n",
        "    df['is_year_start'] = df['date'].dt.is_year_start\n",
        "    df['is_holiday']=df['date'].apply(lambda x: 0 if x in holiday_list else 0)\n",
        "    df['day_part'] = df['hour'].apply(day_part)\n",
        "    cols=num_cols+cat_cols\n",
        "    df=df[cols]\n",
        "    \n",
        "    return df"
      ]
    },
    {
      "cell_type": "code",
      "execution_count": 48,
      "id": "6769ebe2",
      "metadata": {
        "id": "6769ebe2"
      },
      "outputs": [],
      "source": [
        "test=create_data(test)"
      ]
    },
    {
      "cell_type": "markdown",
      "id": "518300bd",
      "metadata": {
        "id": "518300bd"
      },
      "source": [
        "### PREDICTIONS ON TEST DATA & SUBMISSION"
      ]
    },
    {
      "cell_type": "code",
      "execution_count": 49,
      "id": "e6746a36",
      "metadata": {
        "id": "e6746a36"
      },
      "outputs": [],
      "source": [
        "sample_submission=pd.read_excel('sample_submission.xlsx')"
      ]
    },
    {
      "cell_type": "code",
      "execution_count": 50,
      "id": "634d8c29",
      "metadata": {
        "id": "634d8c29"
      },
      "outputs": [],
      "source": [
        "predictions=lgbm_model.predict(test)\n",
        "sample_submission['demand']=predictions.astype('int')\n",
        "sample_submission.to_csv('lgbm_final3.csv', index=False)"
      ]
    }
  ],
  "metadata": {
    "kernelspec": {
      "display_name": "Python 3 (ipykernel)",
      "language": "python",
      "name": "python3"
    },
    "language_info": {
      "codemirror_mode": {
        "name": "ipython",
        "version": 3
      },
      "file_extension": ".py",
      "mimetype": "text/x-python",
      "name": "python",
      "nbconvert_exporter": "python",
      "pygments_lexer": "ipython3",
      "version": "3.9.7"
    },
    "colab": {
      "name": "DEMAND FORECASTING Model1.ipynb",
      "provenance": []
    }
  },
  "nbformat": 4,
  "nbformat_minor": 5
}